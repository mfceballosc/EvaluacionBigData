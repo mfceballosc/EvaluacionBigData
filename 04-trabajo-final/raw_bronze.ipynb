{
 "cells": [
  {
   "cell_type": "code",
   "execution_count": 1,
   "id": "1c2da6bd-4c04-4686-a765-79c521ad651f",
   "metadata": {},
   "outputs": [
    {
     "name": "stderr",
     "output_type": "stream",
     "text": [
      "Setting default log level to \"WARN\".\n",
      "To adjust logging level use sc.setLogLevel(newLevel). For SparkR, use setLogLevel(newLevel).\n"
     ]
    }
   ],
   "source": [
    "from pyspark.sql import SparkSession\n",
    "spark = SparkSession.builder.appName(\"trabajo_final\").getOrCreate()"
   ]
  },
  {
   "cell_type": "code",
   "execution_count": 2,
   "id": "41c82624-ac05-433b-bd9c-cbd5f1649686",
   "metadata": {},
   "outputs": [
    {
     "name": "stdout",
     "output_type": "stream",
     "text": [
      "El directorio ya existe warehouse/raw\n"
     ]
    }
   ],
   "source": [
    "!sh directorio.sh"
   ]
  },
  {
   "cell_type": "code",
   "execution_count": 3,
   "id": "c8b0020f-b165-4577-bfc9-431bd37739b6",
   "metadata": {},
   "outputs": [
    {
     "name": "stdout",
     "output_type": "stream",
     "text": [
      "El directorio /user/warehouse ya existe.\n",
      "El directorio /user/warehouse/bronze ya existe.\n",
      "El directorio /user/warehouse/silver ya existe.\n",
      "El directorio /user/warehouse/gold ya existe.\n",
      "Se crearon los directorios correctamente\n"
     ]
    }
   ],
   "source": [
    "!sh dir_hdfs.sh"
   ]
  },
  {
   "cell_type": "code",
   "execution_count": null,
   "id": "d4a0cf17-52fc-4ae8-942a-53fb3b3c792a",
   "metadata": {},
   "outputs": [],
   "source": [
    "!pip3 install shapely\n",
    "!pip3 install geopandas\n"
   ]
  },
  {
   "cell_type": "code",
   "execution_count": 23,
   "id": "856c326c-4cdf-411a-ad0b-b98d25fe0cf8",
   "metadata": {},
   "outputs": [],
   "source": [
    "# Crear el dataset crudo\n",
    "\n",
    "!python3 01_gen_bd/create_data.py"
   ]
  },
  {
   "cell_type": "code",
   "execution_count": 27,
   "id": "f26e8120-41dc-4537-8263-3907d5c87d14",
   "metadata": {},
   "outputs": [
    {
     "name": "stdout",
     "output_type": "stream",
     "text": [
      "copyFromLocal: `/user/warehouse/data_prueba_3.parquet': File exists\n"
     ]
    }
   ],
   "source": [
    "!hdfs dfs -copyFromLocal warehouse/raw/40000303042024.parquet /user/warehouse/bronze/data_prueba_3.parquet"
   ]
  },
  {
   "cell_type": "code",
   "execution_count": 26,
   "id": "83ce6eb9-893c-45dd-93aa-aff65ce5ab50",
   "metadata": {},
   "outputs": [
    {
     "data": {
      "text/plain": [
       "DataFrame[summary: string, partition_date: string, order_id: string, commune: string, customer_id: string, employee_id: string, event_date: string, event_day: string, event_hour: string, event_minute: string, event_month: string, event_second: string, event_year: string, latitude: string, longitude: string, neighborhood: string, quantity_products: string, __index_level_0__: string]"
      ]
     },
     "execution_count": 26,
     "metadata": {},
     "output_type": "execute_result"
    }
   ],
   "source": [
    "from pyspark import SparkFiles\n",
    "\n",
    "file: str = \"hdfs:///user/warehouse/data_prueba_3.parquet\"\n",
    "df = spark.read.parquet(file)\n",
    "df.describe()"
   ]
  },
  {
   "cell_type": "code",
   "execution_count": 39,
   "id": "3e38d269-2b9f-4a93-9a80-b31c8f47c031",
   "metadata": {},
   "outputs": [
    {
     "name": "stderr",
     "output_type": "stream",
     "text": [
      "                                                                                \r"
     ]
    }
   ],
   "source": [
    "df.write.parquet(\"hdfs:///tmp/dia_1.parquet\")"
   ]
  },
  {
   "cell_type": "code",
   "execution_count": 40,
   "id": "cb6ae1f4-825c-487e-9599-53f3cec7d4e9",
   "metadata": {},
   "outputs": [
    {
     "name": "stdout",
     "output_type": "stream",
     "text": [
      "Found 1 items\n",
      "drwxr-xr-x   - root supergroup          0 2024-06-20 03:29 /tmp/dia_1.parquet\n"
     ]
    }
   ],
   "source": [
    "!hdfs dfs -ls /tmp/"
   ]
  },
  {
   "cell_type": "code",
   "execution_count": 41,
   "id": "95626218-2ff5-4c8e-ab39-6b5b0ab99cb0",
   "metadata": {
    "tags": []
   },
   "outputs": [
    {
     "name": "stdout",
     "output_type": "stream",
     "text": [
      "Found 2 items\n",
      "-rw-r--r--   1 root supergroup          0 2024-06-20 03:29 /tmp/dia_1.parquet/_SUCCESS\n",
      "-rw-r--r--   1 root supergroup      74918 2024-06-20 03:29 /tmp/dia_1.parquet/part-00000-05f0d5c0-8358-40ff-8d14-3ec478c8b912-c000.snappy.parquet\n"
     ]
    }
   ],
   "source": [
    "!hdfs dfs -ls /tmp/dia_1.parquet\n"
   ]
  },
  {
   "cell_type": "code",
   "execution_count": 52,
   "id": "7170f091-e23e-4ddd-904f-c20e0e7a6a45",
   "metadata": {},
   "outputs": [],
   "source": [
    "!hdfs dfs -ls /tmp/"
   ]
  },
  {
   "cell_type": "code",
   "execution_count": 53,
   "id": "2fd7d78e-a43b-46bf-91dd-0e5686ad2022",
   "metadata": {},
   "outputs": [
    {
     "data": {
      "text/plain": [
       "DataFrame[]"
      ]
     },
     "execution_count": 53,
     "metadata": {},
     "output_type": "execute_result"
    }
   ],
   "source": [
    "spark.sql(\"CREATE DATABASE IF NOT EXISTS base_comunas;\")"
   ]
  },
  {
   "cell_type": "code",
   "execution_count": 54,
   "id": "ee1aac30-d666-4279-a45e-8e59a8fe6493",
   "metadata": {},
   "outputs": [],
   "source": [
    "modo: str = \"append\"\n",
    "df.write.mode(modo).saveAsTable(\"base_comunas.dias\")"
   ]
  },
  {
   "cell_type": "code",
   "execution_count": 55,
   "id": "c0bbc6ec-e3d4-4d9b-a8fa-2c6ea8e7993c",
   "metadata": {},
   "outputs": [
    {
     "data": {
      "text/plain": [
       "DataFrame[col_name: string, data_type: string, comment: string]"
      ]
     },
     "execution_count": 55,
     "metadata": {},
     "output_type": "execute_result"
    }
   ],
   "source": [
    "spark.sql(\"DESCRIBE base_dias;\")"
   ]
  },
  {
   "cell_type": "code",
   "execution_count": null,
   "id": "16152ea1-033c-497e-b41a-be11b50cb2f5",
   "metadata": {},
   "outputs": [],
   "source": []
  },
  {
   "cell_type": "code",
   "execution_count": null,
   "id": "c5c6768d-d1f5-4739-9732-3ff327df6f5b",
   "metadata": {},
   "outputs": [],
   "source": []
  },
  {
   "cell_type": "code",
   "execution_count": null,
   "id": "6adce1c5-e2af-4da8-a5e0-48d5f2a7b8e6",
   "metadata": {},
   "outputs": [],
   "source": [
    "\n"
   ]
  },
  {
   "cell_type": "code",
   "execution_count": null,
   "id": "6e27e3c6-d506-41b3-9ff6-424a6e565827",
   "metadata": {},
   "outputs": [],
   "source": []
  },
  {
   "cell_type": "code",
   "execution_count": null,
   "id": "11a13ac5-ae4c-497a-a96f-ba417011fe77",
   "metadata": {},
   "outputs": [],
   "source": []
  },
  {
   "cell_type": "code",
   "execution_count": 21,
   "id": "1a97fa32-0e07-43f3-bd29-6c22a42dd410",
   "metadata": {},
   "outputs": [],
   "source": []
  },
  {
   "cell_type": "code",
   "execution_count": null,
   "id": "6fa4eeec-3dd6-4253-9433-5ca2d9028624",
   "metadata": {},
   "outputs": [],
   "source": []
  },
  {
   "cell_type": "code",
   "execution_count": null,
   "id": "e3b76aaf-c234-4686-ac84-879f0988ecad",
   "metadata": {},
   "outputs": [],
   "source": []
  },
  {
   "cell_type": "code",
   "execution_count": null,
   "id": "af5dbdd7-a871-415b-bdcd-1fb51f034d0e",
   "metadata": {},
   "outputs": [],
   "source": []
  },
  {
   "cell_type": "code",
   "execution_count": null,
   "id": "22c90a09-1ace-4888-9252-c229dac58e47",
   "metadata": {},
   "outputs": [],
   "source": []
  },
  {
   "cell_type": "code",
   "execution_count": null,
   "id": "cd26ff89-9895-4680-890c-fd8198e32ee5",
   "metadata": {},
   "outputs": [],
   "source": []
  },
  {
   "cell_type": "code",
   "execution_count": null,
   "id": "0032077a-0371-4da7-8bda-e5a1dd7d2195",
   "metadata": {},
   "outputs": [],
   "source": []
  },
  {
   "cell_type": "code",
   "execution_count": null,
   "id": "35287ce2-4d90-4fa7-a8b5-c1daf9083d24",
   "metadata": {},
   "outputs": [],
   "source": []
  },
  {
   "cell_type": "code",
   "execution_count": null,
   "id": "50fc6876-641d-4d92-8310-1c980a6dcb5a",
   "metadata": {},
   "outputs": [],
   "source": []
  },
  {
   "cell_type": "code",
   "execution_count": null,
   "id": "6702fc21-33b0-40c9-94fe-728db9ef899f",
   "metadata": {},
   "outputs": [],
   "source": []
  },
  {
   "cell_type": "code",
   "execution_count": null,
   "id": "1a4ffb5b-ec7e-4aa5-8a61-89406187d29d",
   "metadata": {},
   "outputs": [],
   "source": []
  },
  {
   "cell_type": "code",
   "execution_count": null,
   "id": "109180c7-5861-4675-bebf-b317fe277b70",
   "metadata": {},
   "outputs": [],
   "source": []
  },
  {
   "cell_type": "code",
   "execution_count": null,
   "id": "d0e2eb3d-02c9-48ff-b762-774b5729f05c",
   "metadata": {},
   "outputs": [],
   "source": []
  },
  {
   "cell_type": "code",
   "execution_count": null,
   "id": "222c618f-5280-4569-9fe0-3d62478c228d",
   "metadata": {},
   "outputs": [],
   "source": []
  },
  {
   "cell_type": "code",
   "execution_count": null,
   "id": "1477df42-cb9f-4584-beaa-280dcc59205a",
   "metadata": {},
   "outputs": [],
   "source": []
  },
  {
   "cell_type": "code",
   "execution_count": null,
   "id": "409a80bb-16b5-4b4c-8202-cef8c82410b7",
   "metadata": {},
   "outputs": [],
   "source": []
  },
  {
   "cell_type": "code",
   "execution_count": null,
   "id": "a0933a82-9a76-4258-af6c-b1628315ec2f",
   "metadata": {},
   "outputs": [],
   "source": []
  },
  {
   "cell_type": "code",
   "execution_count": null,
   "id": "ebf525b2-6359-481f-ae8d-7e6b25ec462e",
   "metadata": {},
   "outputs": [],
   "source": []
  }
 ],
 "metadata": {
  "kernelspec": {
   "display_name": "Python 3 (ipykernel)",
   "language": "python",
   "name": "python3"
  },
  "language_info": {
   "codemirror_mode": {
    "name": "ipython",
    "version": 3
   },
   "file_extension": ".py",
   "mimetype": "text/x-python",
   "name": "python",
   "nbconvert_exporter": "python",
   "pygments_lexer": "ipython3",
   "version": "3.8.10"
  }
 },
 "nbformat": 4,
 "nbformat_minor": 5
}
