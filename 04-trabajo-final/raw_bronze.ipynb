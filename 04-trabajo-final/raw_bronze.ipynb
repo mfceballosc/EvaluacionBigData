{
 "cells": [
  {
   "cell_type": "code",
   "execution_count": 1,
   "id": "1c2da6bd-4c04-4686-a765-79c521ad651f",
   "metadata": {},
   "outputs": [
    {
     "name": "stderr",
     "output_type": "stream",
     "text": [
      "Setting default log level to \"WARN\".\n",
      "To adjust logging level use sc.setLogLevel(newLevel). For SparkR, use setLogLevel(newLevel).\n"
     ]
    }
   ],
   "source": [
    "from pyspark.sql import SparkSession\n",
    "\n",
    "spark = (\n",
    "    SparkSession.builder.appName(\"trabajo_final\")\n",
    "    .config(\"spark.sql.warehouse.dir\", \"hdfs:///user/warehouse\")\n",
    "    .getOrCreate()\n",
    ")"
   ]
  },
  {
   "cell_type": "code",
   "execution_count": 2,
   "id": "41c82624-ac05-433b-bd9c-cbd5f1649686",
   "metadata": {},
   "outputs": [
    {
     "name": "stdout",
     "output_type": "stream",
     "text": [
      "Se ha creado el directorio warehouse/raw\n"
     ]
    }
   ],
   "source": [
    "!sh directorio.sh"
   ]
  },
  {
   "cell_type": "code",
   "execution_count": 4,
   "id": "c8b0020f-b165-4577-bfc9-431bd37739b6",
   "metadata": {},
   "outputs": [
    {
     "name": "stdout",
     "output_type": "stream",
     "text": [
      "El directorio /user/warehouse ya existe.\n",
      "El directorio /user/warehouse/bronze ya existe.\n",
      "El directorio /user/warehouse/silver ya existe.\n",
      "El directorio /user/warehouse/gold ya existe.\n",
      "Se crearon los directorios correctamente\n"
     ]
    }
   ],
   "source": [
    "!sh dir_hdfs.sh"
   ]
  },
  {
   "cell_type": "code",
   "execution_count": 6,
   "id": "d4a0cf17-52fc-4ae8-942a-53fb3b3c792a",
   "metadata": {},
   "outputs": [
    {
     "name": "stdout",
     "output_type": "stream",
     "text": [
      "Requirement already satisfied: shapely in /usr/local/lib/python3.8/dist-packages (2.0.4)\n",
      "Requirement already satisfied: numpy<3,>=1.14 in /usr/local/lib/python3.8/dist-packages (from shapely) (1.22.4)\n",
      "\u001b[33mWARNING: Running pip as the 'root' user can result in broken permissions and conflicting behaviour with the system package manager. It is recommended to use a virtual environment instead: https://pip.pypa.io/warnings/venv\u001b[0m\u001b[33m\n",
      "\u001b[0m--- Logging error ---\n",
      "Traceback (most recent call last):\n",
      "  File \"/usr/local/lib/python3.8/dist-packages/pip/_internal/utils/logging.py\", line 177, in emit\n",
      "    self.console.print(renderable, overflow=\"ignore\", crop=False, style=style)\n",
      "  File \"/usr/local/lib/python3.8/dist-packages/pip/_vendor/rich/console.py\", line 1752, in print\n",
      "    extend(render(renderable, render_options))\n",
      "  File \"/usr/local/lib/python3.8/dist-packages/pip/_vendor/rich/console.py\", line 1390, in render\n",
      "    for render_output in iter_render:\n",
      "  File \"/usr/local/lib/python3.8/dist-packages/pip/_internal/utils/logging.py\", line 134, in __rich_console__\n",
      "    for line in lines:\n",
      "  File \"/usr/local/lib/python3.8/dist-packages/pip/_vendor/rich/segment.py\", line 245, in split_lines\n",
      "    for segment in segments:\n",
      "  File \"/usr/local/lib/python3.8/dist-packages/pip/_vendor/rich/console.py\", line 1368, in render\n",
      "    renderable = rich_cast(renderable)\n",
      "  File \"/usr/local/lib/python3.8/dist-packages/pip/_vendor/rich/protocol.py\", line 36, in rich_cast\n",
      "    renderable = cast_method()\n",
      "  File \"/usr/local/lib/python3.8/dist-packages/pip/_internal/self_outdated_check.py\", line 130, in __rich__\n",
      "    pip_cmd = get_best_invocation_for_this_pip()\n",
      "  File \"/usr/local/lib/python3.8/dist-packages/pip/_internal/utils/entrypoints.py\", line 58, in get_best_invocation_for_this_pip\n",
      "    if found_executable and os.path.samefile(\n",
      "  File \"/usr/lib/python3.8/genericpath.py\", line 101, in samefile\n",
      "    s2 = os.stat(f2)\n",
      "FileNotFoundError: [Errno 2] No such file or directory: '/usr/bin/pip3.8'\n",
      "Call stack:\n",
      "  File \"/usr/local/bin/pip3\", line 8, in <module>\n",
      "    sys.exit(main())\n",
      "  File \"/usr/local/lib/python3.8/dist-packages/pip/_internal/cli/main.py\", line 70, in main\n",
      "    return command.main(cmd_args)\n",
      "  File \"/usr/local/lib/python3.8/dist-packages/pip/_internal/cli/base_command.py\", line 101, in main\n",
      "    return self._main(args)\n",
      "  File \"/usr/local/lib/python3.8/dist-packages/pip/_internal/cli/base_command.py\", line 223, in _main\n",
      "    self.handle_pip_version_check(options)\n",
      "  File \"/usr/local/lib/python3.8/dist-packages/pip/_internal/cli/req_command.py\", line 148, in handle_pip_version_check\n",
      "    pip_self_version_check(session, options)\n",
      "  File \"/usr/local/lib/python3.8/dist-packages/pip/_internal/self_outdated_check.py\", line 237, in pip_self_version_check\n",
      "    logger.info(\"[present-rich] %s\", upgrade_prompt)\n",
      "  File \"/usr/lib/python3.8/logging/__init__.py\", line 1446, in info\n",
      "    self._log(INFO, msg, args, **kwargs)\n",
      "  File \"/usr/lib/python3.8/logging/__init__.py\", line 1589, in _log\n",
      "    self.handle(record)\n",
      "  File \"/usr/lib/python3.8/logging/__init__.py\", line 1599, in handle\n",
      "    self.callHandlers(record)\n",
      "  File \"/usr/lib/python3.8/logging/__init__.py\", line 1661, in callHandlers\n",
      "    hdlr.handle(record)\n",
      "  File \"/usr/lib/python3.8/logging/__init__.py\", line 954, in handle\n",
      "    self.emit(record)\n",
      "  File \"/usr/local/lib/python3.8/dist-packages/pip/_internal/utils/logging.py\", line 179, in emit\n",
      "    self.handleError(record)\n",
      "Message: '[present-rich] %s'\n",
      "Arguments: (UpgradePrompt(old='22.1.2', new='24.1'),)\n",
      "Requirement already satisfied: geopandas in /usr/local/lib/python3.8/dist-packages (0.13.2)\n",
      "Requirement already satisfied: pyproj>=3.0.1 in /usr/local/lib/python3.8/dist-packages (from geopandas) (3.5.0)\n",
      "Requirement already satisfied: shapely>=1.7.1 in /usr/local/lib/python3.8/dist-packages (from geopandas) (2.0.4)\n",
      "Requirement already satisfied: fiona>=1.8.19 in /usr/local/lib/python3.8/dist-packages (from geopandas) (1.9.6)\n",
      "Requirement already satisfied: pandas>=1.1.0 in /usr/local/lib/python3.8/dist-packages (from geopandas) (1.4.2)\n",
      "Requirement already satisfied: packaging in /usr/local/lib/python3.8/dist-packages (from geopandas) (21.3)\n",
      "Requirement already satisfied: importlib-metadata in /usr/local/lib/python3.8/dist-packages (from fiona>=1.8.19->geopandas) (4.11.4)\n",
      "Requirement already satisfied: certifi in /usr/local/lib/python3.8/dist-packages (from fiona>=1.8.19->geopandas) (2022.5.18.1)\n",
      "Requirement already satisfied: cligj>=0.5 in /usr/local/lib/python3.8/dist-packages (from fiona>=1.8.19->geopandas) (0.7.2)\n",
      "Requirement already satisfied: click~=8.0 in /usr/local/lib/python3.8/dist-packages (from fiona>=1.8.19->geopandas) (8.1.3)\n",
      "Requirement already satisfied: six in /usr/local/lib/python3.8/dist-packages (from fiona>=1.8.19->geopandas) (1.16.0)\n",
      "Requirement already satisfied: click-plugins>=1.0 in /usr/local/lib/python3.8/dist-packages (from fiona>=1.8.19->geopandas) (1.1.1)\n",
      "Requirement already satisfied: attrs>=19.2.0 in /usr/local/lib/python3.8/dist-packages (from fiona>=1.8.19->geopandas) (21.4.0)\n",
      "Requirement already satisfied: python-dateutil>=2.8.1 in /usr/local/lib/python3.8/dist-packages (from pandas>=1.1.0->geopandas) (2.8.2)\n",
      "Requirement already satisfied: numpy>=1.18.5 in /usr/local/lib/python3.8/dist-packages (from pandas>=1.1.0->geopandas) (1.22.4)\n",
      "Requirement already satisfied: pytz>=2020.1 in /usr/local/lib/python3.8/dist-packages (from pandas>=1.1.0->geopandas) (2022.1)\n",
      "Requirement already satisfied: pyparsing!=3.0.5,>=2.0.2 in /usr/local/lib/python3.8/dist-packages (from packaging->geopandas) (2.4.7)\n",
      "Requirement already satisfied: zipp>=0.5 in /usr/local/lib/python3.8/dist-packages (from importlib-metadata->fiona>=1.8.19->geopandas) (3.8.0)\n",
      "\u001b[33mWARNING: Running pip as the 'root' user can result in broken permissions and conflicting behaviour with the system package manager. It is recommended to use a virtual environment instead: https://pip.pypa.io/warnings/venv\u001b[0m\u001b[33m\n",
      "\u001b[0m--- Logging error ---\n",
      "Traceback (most recent call last):\n",
      "  File \"/usr/local/lib/python3.8/dist-packages/pip/_internal/utils/logging.py\", line 177, in emit\n",
      "    self.console.print(renderable, overflow=\"ignore\", crop=False, style=style)\n",
      "  File \"/usr/local/lib/python3.8/dist-packages/pip/_vendor/rich/console.py\", line 1752, in print\n",
      "    extend(render(renderable, render_options))\n",
      "  File \"/usr/local/lib/python3.8/dist-packages/pip/_vendor/rich/console.py\", line 1390, in render\n",
      "    for render_output in iter_render:\n",
      "  File \"/usr/local/lib/python3.8/dist-packages/pip/_internal/utils/logging.py\", line 134, in __rich_console__\n",
      "    for line in lines:\n",
      "  File \"/usr/local/lib/python3.8/dist-packages/pip/_vendor/rich/segment.py\", line 245, in split_lines\n",
      "    for segment in segments:\n",
      "  File \"/usr/local/lib/python3.8/dist-packages/pip/_vendor/rich/console.py\", line 1368, in render\n",
      "    renderable = rich_cast(renderable)\n",
      "  File \"/usr/local/lib/python3.8/dist-packages/pip/_vendor/rich/protocol.py\", line 36, in rich_cast\n",
      "    renderable = cast_method()\n",
      "  File \"/usr/local/lib/python3.8/dist-packages/pip/_internal/self_outdated_check.py\", line 130, in __rich__\n",
      "    pip_cmd = get_best_invocation_for_this_pip()\n",
      "  File \"/usr/local/lib/python3.8/dist-packages/pip/_internal/utils/entrypoints.py\", line 58, in get_best_invocation_for_this_pip\n",
      "    if found_executable and os.path.samefile(\n",
      "  File \"/usr/lib/python3.8/genericpath.py\", line 101, in samefile\n",
      "    s2 = os.stat(f2)\n",
      "FileNotFoundError: [Errno 2] No such file or directory: '/usr/bin/pip3.8'\n",
      "Call stack:\n",
      "  File \"/usr/local/bin/pip3\", line 8, in <module>\n",
      "    sys.exit(main())\n",
      "  File \"/usr/local/lib/python3.8/dist-packages/pip/_internal/cli/main.py\", line 70, in main\n",
      "    return command.main(cmd_args)\n",
      "  File \"/usr/local/lib/python3.8/dist-packages/pip/_internal/cli/base_command.py\", line 101, in main\n",
      "    return self._main(args)\n",
      "  File \"/usr/local/lib/python3.8/dist-packages/pip/_internal/cli/base_command.py\", line 223, in _main\n",
      "    self.handle_pip_version_check(options)\n",
      "  File \"/usr/local/lib/python3.8/dist-packages/pip/_internal/cli/req_command.py\", line 148, in handle_pip_version_check\n",
      "    pip_self_version_check(session, options)\n",
      "  File \"/usr/local/lib/python3.8/dist-packages/pip/_internal/self_outdated_check.py\", line 237, in pip_self_version_check\n",
      "    logger.info(\"[present-rich] %s\", upgrade_prompt)\n",
      "  File \"/usr/lib/python3.8/logging/__init__.py\", line 1446, in info\n",
      "    self._log(INFO, msg, args, **kwargs)\n",
      "  File \"/usr/lib/python3.8/logging/__init__.py\", line 1589, in _log\n",
      "    self.handle(record)\n",
      "  File \"/usr/lib/python3.8/logging/__init__.py\", line 1599, in handle\n",
      "    self.callHandlers(record)\n",
      "  File \"/usr/lib/python3.8/logging/__init__.py\", line 1661, in callHandlers\n",
      "    hdlr.handle(record)\n",
      "  File \"/usr/lib/python3.8/logging/__init__.py\", line 954, in handle\n",
      "    self.emit(record)\n",
      "  File \"/usr/local/lib/python3.8/dist-packages/pip/_internal/utils/logging.py\", line 179, in emit\n",
      "    self.handleError(record)\n",
      "Message: '[present-rich] %s'\n",
      "Arguments: (UpgradePrompt(old='22.1.2', new='24.1'),)\n"
     ]
    }
   ],
   "source": [
    "!pip3 install shapely\n",
    "!pip3 install geopandas"
   ]
  },
  {
   "cell_type": "code",
   "execution_count": 9,
   "id": "856c326c-4cdf-411a-ad0b-b98d25fe0cf8",
   "metadata": {},
   "outputs": [],
   "source": [
    "from pyspark import SparkFiles\n",
    "\n",
    "# Crear el dataset crudo\n",
    "!python3 01_gen_bd/create_data.py\n",
    "\n",
    "file: str = \"file:///workspace/warehouse/raw/water.parquet\"\n",
    "df = spark.read.parquet(file)\n",
    "df.describe()\n",
    "\n",
    "hdfs_path = \"/user/warehouse/bronze/water_base\"\n",
    "df.write.mode(\"append\").parquet(hdfs_path)"
   ]
  },
  {
   "cell_type": "code",
   "execution_count": 6,
   "id": "880c6147-6838-4354-805c-09e41faf470f",
   "metadata": {},
   "outputs": [],
   "source": [
    "# !find / -name \"water.parquet\""
   ]
  },
  {
   "cell_type": "code",
   "execution_count": 7,
   "id": "f26e8120-41dc-4537-8263-3907d5c87d14",
   "metadata": {},
   "outputs": [],
   "source": [
    "# !hdfs dfs -copyFromLocal warehouse/raw/water.parquet /user/warehouse/bronze/data_prueba_3.parquet"
   ]
  },
  {
   "cell_type": "code",
   "execution_count": 5,
   "id": "af9011b1-8ac8-423c-84a1-230dbe648ef7",
   "metadata": {},
   "outputs": [
    {
     "name": "stdout",
     "output_type": "stream",
     "text": [
      "Found 3 items\n",
      "drwxr-xr-x   - root supergroup          0 2024-06-21 05:59 /user/warehouse/bronze\n",
      "drwxr-xr-x   - root supergroup          0 2024-06-21 05:59 /user/warehouse/gold\n",
      "drwxr-xr-x   - root supergroup          0 2024-06-21 05:59 /user/warehouse/silver\n"
     ]
    }
   ],
   "source": [
    "!hdfs dfs -ls /user/warehouse/"
   ]
  },
  {
   "cell_type": "code",
   "execution_count": 27,
   "id": "bd0f7e7d-e680-4d89-97cd-270c33206bce",
   "metadata": {},
   "outputs": [
    {
     "data": {
      "text/plain": [
       "DataFrame[]"
      ]
     },
     "execution_count": 27,
     "metadata": {},
     "output_type": "execute_result"
    }
   ],
   "source": [
    "# hdfs_path = \"hdfs:///user/warehouse/bronze/prueba2\"\n",
    "\n",
    "# spark.sql(f\"CREATE DATABASE IF NOT EXISTS prueba2 LOCATION '{hdfs_path}';\")"
   ]
  },
  {
   "cell_type": "code",
   "execution_count": 10,
   "id": "2a9489fe-470f-4240-a78e-e3a54f345ccc",
   "metadata": {},
   "outputs": [
    {
     "name": "stdout",
     "output_type": "stream",
     "text": [
      "Found 1 items\n",
      "drwxr-xr-x   - root supergroup          0 2024-06-21 06:00 /user/warehouse/bronze/water_base\n"
     ]
    }
   ],
   "source": [
    "!hdfs dfs -ls /user/warehouse/bronze/"
   ]
  },
  {
   "cell_type": "code",
   "execution_count": 15,
   "id": "56beb4d8-e278-40d1-b8b4-f1f23c34b17b",
   "metadata": {},
   "outputs": [],
   "source": []
  },
  {
   "cell_type": "code",
   "execution_count": 11,
   "id": "2d7d7f5c-8c13-4f2e-a56c-bd8a01340c38",
   "metadata": {},
   "outputs": [
    {
     "data": {
      "text/plain": [
       "9592"
      ]
     },
     "execution_count": 11,
     "metadata": {},
     "output_type": "execute_result"
    }
   ],
   "source": [
    "hdfs_path = \"/user/warehouse/bronze/water_base\"\n",
    "df_bronce = spark.read.parquet(hdfs_path)\n",
    "df_bronce.count()"
   ]
  },
  {
   "cell_type": "code",
   "execution_count": 21,
   "id": "16152ea1-033c-497e-b41a-be11b50cb2f5",
   "metadata": {},
   "outputs": [
    {
     "name": "stdout",
     "output_type": "stream",
     "text": [
      "+---------+\n",
      "|event_day|\n",
      "+---------+\n",
      "|       05|\n",
      "|       05|\n",
      "|       05|\n",
      "|       05|\n",
      "|       05|\n",
      "|       04|\n",
      "|       04|\n",
      "|       04|\n",
      "|       04|\n",
      "|       04|\n",
      "|       04|\n",
      "|       04|\n",
      "|       04|\n",
      "|       04|\n",
      "|       04|\n",
      "|       04|\n",
      "|       04|\n",
      "|       04|\n",
      "|       04|\n",
      "|       04|\n",
      "+---------+\n",
      "only showing top 20 rows\n",
      "\n"
     ]
    }
   ],
   "source": [
    "df_bronce.select(\"event_day\").show()"
   ]
  },
  {
   "cell_type": "code",
   "execution_count": 36,
   "id": "28173dec-d6b8-4559-9c50-3682b34a2f05",
   "metadata": {},
   "outputs": [],
   "source": [
    "from pyspark.sql.functions import avg, col, count, sum, min, max\n",
    "from pyspark.sql.types import IntegerType"
   ]
  },
  {
   "cell_type": "code",
   "execution_count": 13,
   "id": "c5c6768d-d1f5-4739-9732-3ff327df6f5b",
   "metadata": {},
   "outputs": [],
   "source": [
    "# Para Silver\n",
    "# Cruce de información con la población\n",
    "df_bronce = (\n",
    "    df_bronce.withColumn(\"order_id\", col(\"order_id\").cast(IntegerType()))\n",
    "    .withColumn(\"event_year\", col(\"event_year\").cast(IntegerType()))\n",
    "    .withColumn(\"event_month\", col(\"event_month\").cast(IntegerType()))\n",
    "    .withColumn(\"event_day\", col(\"event_day\").cast(IntegerType()))\n",
    "    .withColumn(\"event_hour\", col(\"event_hour\").cast(IntegerType()))\n",
    "    .withColumn(\"event_minute\", col(\"event_minute\").cast(IntegerType()))\n",
    "    .withColumn(\"event_second\", col(\"event_second\").cast(IntegerType()))\n",
    "    .withColumn(\"quantity_products\", col(\"quantity_products\").cast(\"int\"))\n",
    "    .withColumn(\"customer_id\", col(\"customer_id\").cast(IntegerType()))\n",
    ")"
   ]
  },
  {
   "cell_type": "code",
   "execution_count": 6,
   "id": "6adce1c5-e2af-4da8-a5e0-48d5f2a7b8e6",
   "metadata": {},
   "outputs": [
    {
     "name": "stdout",
     "output_type": "stream",
     "text": [
      "root\n",
      " |-- partition_date: string (nullable = true)\n",
      " |-- order_id: integer (nullable = true)\n",
      " |-- commune: string (nullable = true)\n",
      " |-- customer_id: integer (nullable = true)\n",
      " |-- employee_id: long (nullable = true)\n",
      " |-- event_date: string (nullable = true)\n",
      " |-- event_day: integer (nullable = true)\n",
      " |-- event_hour: integer (nullable = true)\n",
      " |-- event_minute: integer (nullable = true)\n",
      " |-- event_month: integer (nullable = true)\n",
      " |-- event_second: integer (nullable = true)\n",
      " |-- event_year: integer (nullable = true)\n",
      " |-- latitude: double (nullable = true)\n",
      " |-- longitude: double (nullable = true)\n",
      " |-- neighborhood: string (nullable = true)\n",
      " |-- quantity_products: integer (nullable = true)\n",
      " |-- __index_level_0__: long (nullable = true)\n",
      "\n"
     ]
    }
   ],
   "source": [
    "df_bronce.printSchema()"
   ]
  },
  {
   "cell_type": "code",
   "execution_count": 14,
   "id": "11a13ac5-ae4c-497a-a96f-ba417011fe77",
   "metadata": {},
   "outputs": [
    {
     "data": {
      "text/plain": [
       "DataFrame[]"
      ]
     },
     "execution_count": 14,
     "metadata": {},
     "output_type": "execute_result"
    }
   ],
   "source": [
    "hdfs_path = \"hdfs:///user/warehouse/silver/water\"\n",
    "bd_name = \"water\"\n",
    "spark.sql(f\"CREATE DATABASE IF NOT EXISTS {bd_name} LOCATION '{hdfs_path}';\")"
   ]
  },
  {
   "cell_type": "code",
   "execution_count": 15,
   "id": "c742ecda-12d9-41fe-9bb1-8b080282a71a",
   "metadata": {},
   "outputs": [
    {
     "name": "stdout",
     "output_type": "stream",
     "text": [
      "Found 1 items\n",
      "drwxr-xr-x   - root supergroup          0 2024-06-21 06:01 /user/warehouse/silver/water\n"
     ]
    }
   ],
   "source": [
    "!hdfs dfs -ls /user/warehouse/silver/"
   ]
  },
  {
   "cell_type": "code",
   "execution_count": 17,
   "id": "2c1fed74-bfcc-4dec-b261-6f314c3a82a7",
   "metadata": {},
   "outputs": [],
   "source": [
    "bd_name = \"water\"\n",
    "nombre_tabla = f\"{bd_name}.data\"\n",
    "modo: str = \"append\"\n",
    "df_bronce.write.mode(modo).saveAsTable(nombre_tabla)"
   ]
  },
  {
   "cell_type": "code",
   "execution_count": 18,
   "id": "1a97fa32-0e07-43f3-bd29-6c22a42dd410",
   "metadata": {},
   "outputs": [
    {
     "name": "stdout",
     "output_type": "stream",
     "text": [
      "Found 4 items\n",
      "-rw-r--r--   1 root supergroup          0 2024-06-21 06:02 /user/warehouse/silver/water/data/_SUCCESS\n",
      "-rw-r--r--   1 root supergroup      90257 2024-06-21 06:02 /user/warehouse/silver/water/data/part-00000-fbfc6eef-0c28-449f-b209-88f936e06ae8-c000.snappy.parquet\n",
      "-rw-r--r--   1 root supergroup      86587 2024-06-21 06:02 /user/warehouse/silver/water/data/part-00001-fbfc6eef-0c28-449f-b209-88f936e06ae8-c000.snappy.parquet\n",
      "-rw-r--r--   1 root supergroup      83949 2024-06-21 06:02 /user/warehouse/silver/water/data/part-00002-fbfc6eef-0c28-449f-b209-88f936e06ae8-c000.snappy.parquet\n"
     ]
    }
   ],
   "source": [
    "!hdfs dfs -ls /user/warehouse/silver/water/data/"
   ]
  },
  {
   "cell_type": "code",
   "execution_count": 19,
   "id": "6fa4eeec-3dd6-4253-9433-5ca2d9028624",
   "metadata": {},
   "outputs": [
    {
     "name": "stdout",
     "output_type": "stream",
     "text": [
      "+--------+---------+-----------+\n",
      "|database|tableName|isTemporary|\n",
      "+--------+---------+-----------+\n",
      "|   water|     data|      false|\n",
      "+--------+---------+-----------+\n",
      "\n"
     ]
    }
   ],
   "source": [
    "spark.sql(\"SHOW TABLES IN water\").show()"
   ]
  },
  {
   "cell_type": "code",
   "execution_count": 20,
   "id": "e3b76aaf-c234-4686-ac84-879f0988ecad",
   "metadata": {},
   "outputs": [
    {
     "name": "stdout",
     "output_type": "stream",
     "text": [
      "+--------------+--------+----------------+-----------+-----------+----------+---------+----------+------------+-----------+------------+----------+------------------+-----------------+--------------------+-----------------+-----------------+\n",
      "|partition_date|order_id|         commune|customer_id|employee_id|event_date|event_day|event_hour|event_minute|event_month|event_second|event_year|          latitude|        longitude|        neighborhood|quantity_products|__index_level_0__|\n",
      "+--------------+--------+----------------+-----------+-----------+----------+---------+----------+------------+-----------+------------+----------+------------------+-----------------+--------------------+-----------------+-----------------+\n",
      "|      04042024|    null|        COMUNA 3|       6728|       9726|2024-04-04|        4|         0|           0|          4|           0|      2024|-75.54021272534422|6.264628115375797|            MANRIQUE|                3|             1983|\n",
      "|      04042024|    null|        COMUNA 6|       4982|       1679|2024-04-04|        4|         0|           0|          4|           0|      2024| -75.5831854309446| 6.29938859981295|     DOCE DE OCTUBRE|                3|              990|\n",
      "|      04042024|    null|        COMUNA 4|       5550|       9435|2024-04-04|        4|         0|           0|          4|           0|      2024| -75.5648022526604|6.273568785770874|            ARANJUEZ|                3|              226|\n",
      "|      04042024|    null|        COMUNA 3|       5741|       9726|2024-04-04|        4|         0|           0|          4|           0|      2024|-75.54271998689218|6.272573791978671|            MANRIQUE|                4|             1821|\n",
      "|      04042024|    null|       COMUNA 14|       4813|       6696|2024-04-04|        4|         0|           0|          4|           0|      2024|-75.55872397058438|6.203705646123653|          EL POBLADO|                4|             1280|\n",
      "|      03042024|    null|       COMUNA 16|       3521|       1561|2024-04-03|        3|        23|          57|          4|          25|      2024|-75.57713654845224|6.238418782971696|               BELÉN|                4|              342|\n",
      "|      03042024|    null|       COMUNA 14|       1529|       6696|2024-04-03|        3|        23|          53|          4|          59|      2024| -75.5642025848649|6.201188268543308|          EL POBLADO|                3|             1287|\n",
      "|      03042024|    null|CORREGIMIENTO 70|       5167|       3455|2024-04-03|        3|        23|          48|          4|          47|      2024|-75.64394156396618|6.235508259161075|CORREGIMIENTO DE ...|                3|               30|\n",
      "|      03042024|    null|        COMUNA 7|       4572|       9438|2024-04-03|        3|        23|          28|          4|          20|      2024| -75.5821218535329|6.272050326224884|             ROBLEDO|                2|             2410|\n",
      "|      03042024|    null|        COMUNA 8|       4115|       1482|2024-04-03|        3|        23|          15|          4|          15|      2024|-75.54513261177513|6.256721082847985|       VILLA HERMOSA|                2|             3198|\n",
      "|      03042024|    null|        COMUNA 6|       2295|       1679|2024-04-03|        3|        22|          54|          4|          18|      2024|-75.57205228904306|6.303675982564136|     DOCE DE OCTUBRE|                3|             1105|\n",
      "|      03042024|    null|       COMUNA 16|       3521|       1561|2024-04-03|        3|        22|          42|          4|          36|      2024|-75.58485988157598|6.234986763343525|               BELÉN|                3|              550|\n",
      "|      03042024|    null|        COMUNA 7|       5522|       9438|2024-04-03|        3|        22|          42|          4|           4|      2024|-75.59566759800224|6.281187979787387|             ROBLEDO|                4|             2322|\n",
      "|      03042024|    null|        COMUNA 9|       9400|       1473|2024-04-03|        3|        22|          39|          4|          27|      2024|-75.54628831848098|6.236019133352829|        BUENOS AIRES|                1|              821|\n",
      "|      03042024|    null|       COMUNA 16|       8481|       1561|2024-04-03|        3|        22|          38|          4|           1|      2024| -75.6069885631428|6.230147797840925|               BELÉN|                3|              284|\n",
      "|      03042024|    null|        COMUNA 3|       7008|       9726|2024-04-03|        3|        22|          36|          4|          12|      2024|-75.55323509874758|6.273072079708186|            MANRIQUE|                3|             1884|\n",
      "|      03042024|    null|       COMUNA 14|       8432|       6696|2024-04-03|        3|        22|          34|          4|          28|      2024|-75.55109452254295|6.206224386649044|          EL POBLADO|                3|             1300|\n",
      "|      03042024|    null|        COMUNA 4|       6105|       9435|2024-04-03|        3|        22|          22|          4|          55|      2024|-75.56767429956545|6.282261258148811|            ARANJUEZ|                2|              248|\n",
      "|      03042024|    null|        COMUNA 3|       9803|       9726|2024-04-03|        3|        22|          16|          4|          38|      2024|-75.54082746613471|6.285646477817051|            MANRIQUE|                4|             1990|\n",
      "|      03042024|    null|        COMUNA 7|       6228|       9438|2024-04-03|        3|        22|          14|          4|          25|      2024|-75.58014995502101|6.271335629253308|             ROBLEDO|                1|             2269|\n",
      "+--------------+--------+----------------+-----------+-----------+----------+---------+----------+------------+-----------+------------+----------+------------------+-----------------+--------------------+-----------------+-----------------+\n",
      "only showing top 20 rows\n",
      "\n"
     ]
    }
   ],
   "source": [
    "spark.sql(\"SELECT * FROM water.data\").show()"
   ]
  },
  {
   "cell_type": "code",
   "execution_count": 21,
   "id": "af5dbdd7-a871-415b-bdcd-1fb51f034d0e",
   "metadata": {},
   "outputs": [],
   "source": [
    "# Para gold\n",
    "df_gold = spark.read.table(\"water.data\")"
   ]
  },
  {
   "cell_type": "code",
   "execution_count": 22,
   "id": "22c90a09-1ace-4888-9252-c229dac58e47",
   "metadata": {},
   "outputs": [
    {
     "name": "stdout",
     "output_type": "stream",
     "text": [
      "+----------------+--------------------+--------------+------------+\n",
      "|         commune|        neighborhood|total_quantity|transactions|\n",
      "+----------------+--------------------+--------------+------------+\n",
      "|       COMUNA 16|               BELÉN|          2095|         827|\n",
      "|        COMUNA 7|             ROBLEDO|          2015|         789|\n",
      "|        COMUNA 9|        BUENOS AIRES|          1851|         736|\n",
      "|        COMUNA 3|            MANRIQUE|          1771|         698|\n",
      "|       COMUNA 13|          SAN JAVIER|          1538|         606|\n",
      "|        COMUNA 6|     DOCE DE OCTUBRE|          1520|         615|\n",
      "|        COMUNA 4|            ARANJUEZ|          1394|         571|\n",
      "|        COMUNA 8|       VILLA HERMOSA|          1353|         548|\n",
      "|        COMUNA 1|             POPULAR|          1338|         530|\n",
      "|CORREGIMIENTO 60|CORREGIMIENTO DE ...|          1199|         492|\n",
      "|       COMUNA 14|          EL POBLADO|          1112|         456|\n",
      "|        COMUNA 5|            CASTILLA|          1086|         438|\n",
      "|       COMUNA 11|    LAURELES ESTADIO|           989|         393|\n",
      "|        COMUNA 2|          SANTA CRUZ|           976|         400|\n",
      "|       COMUNA 10|       LA CANDELARIA|           885|         343|\n",
      "|       COMUNA 12|          LA AMÉRICA|           864|         347|\n",
      "|CORREGIMIENTO 80|CORREGIMIENTO DE ...|           852|         338|\n",
      "|       COMUNA 15|            GUAYABAL|           513|         206|\n",
      "|CORREGIMIENTO 70|CORREGIMIENTO DE ...|           298|         122|\n",
      "|CORREGIMIENTO 90|CORREGIMIENTO DE ...|           279|         116|\n",
      "+----------------+--------------------+--------------+------------+\n",
      "only showing top 20 rows\n",
      "\n"
     ]
    }
   ],
   "source": [
    "# tabla_totales = f\"{bd_name}.pruebas\"\n",
    "df_gold.groupBy(\"commune\", \"neighborhood\")\\\n",
    "    .agg(sum(\"quantity_products\").alias(\"total_quantity\"), count(\"*\").alias(\"transactions\"))\\\n",
    "    .orderBy(\"total_quantity\", ascending=False).show()"
   ]
  },
  {
   "cell_type": "code",
   "execution_count": 23,
   "id": "cf22f314-a16c-4c39-9022-6c06a876ffff",
   "metadata": {},
   "outputs": [],
   "source": [
    "!hdfs dfs -ls /user/warehouse/gold/"
   ]
  },
  {
   "cell_type": "code",
   "execution_count": 26,
   "id": "4dd870ae-1a15-41c7-86f6-5a594ac1e9cc",
   "metadata": {},
   "outputs": [
    {
     "data": {
      "text/plain": [
       "DataFrame[]"
      ]
     },
     "execution_count": 26,
     "metadata": {},
     "output_type": "execute_result"
    }
   ],
   "source": [
    "hdfs_path = \"hdfs:///user/warehouse/gold/water_db\"\n",
    "bd_name = \"water_db\"\n",
    "spark.sql(f\"CREATE DATABASE IF NOT EXISTS {bd_name} LOCATION '{hdfs_path}';\")"
   ]
  },
  {
   "cell_type": "code",
   "execution_count": 27,
   "id": "4de7a887-fda0-482e-ac7f-cb2ab3a6c246",
   "metadata": {},
   "outputs": [
    {
     "name": "stdout",
     "output_type": "stream",
     "text": [
      "Found 1 items\n",
      "drwxr-xr-x   - root supergroup          0 2024-06-21 06:03 /user/warehouse/gold/water_db\n"
     ]
    }
   ],
   "source": [
    "!hdfs dfs -ls /user/warehouse/gold/"
   ]
  },
  {
   "cell_type": "code",
   "execution_count": 29,
   "id": "0032077a-0371-4da7-8bda-e5a1dd7d2195",
   "metadata": {},
   "outputs": [],
   "source": [
    "!hdfs dfs -ls /user/warehouse/gold/water_db/"
   ]
  },
  {
   "cell_type": "code",
   "execution_count": null,
   "id": "a49c8d28-bdcd-4751-8e34-53a98e8b4720",
   "metadata": {},
   "outputs": [],
   "source": []
  },
  {
   "cell_type": "code",
   "execution_count": 37,
   "id": "35287ce2-4d90-4fa7-a8b5-c1daf9083d24",
   "metadata": {},
   "outputs": [
    {
     "name": "stderr",
     "output_type": "stream",
     "text": [
      "                                                                                \r"
     ]
    }
   ],
   "source": [
    "bd_name = \"water_db\"\n",
    "tabla_totales = f\"{bd_name}.data\"\n",
    "\n",
    "mode=\"append\"\n",
    "df_gold.groupBy(\"commune\", \"neighborhood\", \"event_date\")\\\n",
    "    .agg(\n",
    "        sum(\"quantity_products\").alias(\"total_ventas\"),\n",
    "        count(\"*\").alias(\"numero_transacciones\"),\n",
    "        avg(\"quantity_products\").alias(\"promedio_ventas\"),\n",
    "        max(\"quantity_products\").alias(\"maximo_numero_ventas\"),\n",
    "        min(\"quantity_products\").alias(\"minimo_numero_ventas\")\n",
    "    )\\\n",
    "    .write\\\n",
    "    .bucketBy(10, \"event_date\", \"commune\") \\\n",
    "    .mode(mode).saveAsTable(tabla_totales)\n",
    "    # .orderBy(\"total_ventas\", ascending=False).show(1)"
   ]
  },
  {
   "cell_type": "code",
   "execution_count": 40,
   "id": "50fc6876-641d-4d92-8310-1c980a6dcb5a",
   "metadata": {},
   "outputs": [
    {
     "name": "stdout",
     "output_type": "stream",
     "text": [
      "Found 66 items\n",
      "-rw-r--r--   1 root supergroup          0 2024-06-21 06:10 /user/warehouse/gold/water_db/data/_SUCCESS\n",
      "-rw-r--r--   1 root supergroup       2349 2024-06-21 06:10 /user/warehouse/gold/water_db/data/part-00002-5bcbefd3-f50c-4df5-87af-8b6e7dcba050_00000.c000.snappy.parquet\n",
      "-rw-r--r--   1 root supergroup       2736 2024-06-21 06:10 /user/warehouse/gold/water_db/data/part-00004-5bcbefd3-f50c-4df5-87af-8b6e7dcba050_00009.c000.snappy.parquet\n",
      "-rw-r--r--   1 root supergroup       2340 2024-06-21 06:10 /user/warehouse/gold/water_db/data/part-00005-5bcbefd3-f50c-4df5-87af-8b6e7dcba050_00007.c000.snappy.parquet\n",
      "-rw-r--r--   1 root supergroup       2394 2024-06-21 06:10 /user/warehouse/gold/water_db/data/part-00005-5bcbefd3-f50c-4df5-87af-8b6e7dcba050_00008.c000.snappy.parquet\n",
      "-rw-r--r--   1 root supergroup       2376 2024-06-21 06:10 /user/warehouse/gold/water_db/data/part-00011-5bcbefd3-f50c-4df5-87af-8b6e7dcba050_00004.c000.snappy.parquet\n",
      "-rw-r--r--   1 root supergroup       2583 2024-06-21 06:10 /user/warehouse/gold/water_db/data/part-00012-5bcbefd3-f50c-4df5-87af-8b6e7dcba050_00007.c000.snappy.parquet\n",
      "-rw-r--r--   1 root supergroup       2583 2024-06-21 06:10 /user/warehouse/gold/water_db/data/part-00018-5bcbefd3-f50c-4df5-87af-8b6e7dcba050_00005.c000.snappy.parquet\n",
      "-rw-r--r--   1 root supergroup       2394 2024-06-21 06:10 /user/warehouse/gold/water_db/data/part-00019-5bcbefd3-f50c-4df5-87af-8b6e7dcba050_00004.c000.snappy.parquet\n",
      "-rw-r--r--   1 root supergroup       2340 2024-06-21 06:10 /user/warehouse/gold/water_db/data/part-00023-5bcbefd3-f50c-4df5-87af-8b6e7dcba050_00000.c000.snappy.parquet\n",
      "-rw-r--r--   1 root supergroup       2349 2024-06-21 06:10 /user/warehouse/gold/water_db/data/part-00025-5bcbefd3-f50c-4df5-87af-8b6e7dcba050_00007.c000.snappy.parquet\n",
      "-rw-r--r--   1 root supergroup       2628 2024-06-21 06:10 /user/warehouse/gold/water_db/data/part-00031-5bcbefd3-f50c-4df5-87af-8b6e7dcba050_00003.c000.snappy.parquet\n",
      "-rw-r--r--   1 root supergroup       2349 2024-06-21 06:10 /user/warehouse/gold/water_db/data/part-00032-5bcbefd3-f50c-4df5-87af-8b6e7dcba050_00004.c000.snappy.parquet\n",
      "-rw-r--r--   1 root supergroup       2340 2024-06-21 06:10 /user/warehouse/gold/water_db/data/part-00032-5bcbefd3-f50c-4df5-87af-8b6e7dcba050_00007.c000.snappy.parquet\n",
      "-rw-r--r--   1 root supergroup       2403 2024-06-21 06:10 /user/warehouse/gold/water_db/data/part-00034-5bcbefd3-f50c-4df5-87af-8b6e7dcba050_00004.c000.snappy.parquet\n",
      "-rw-r--r--   1 root supergroup       2385 2024-06-21 06:10 /user/warehouse/gold/water_db/data/part-00038-5bcbefd3-f50c-4df5-87af-8b6e7dcba050_00000.c000.snappy.parquet\n",
      "-rw-r--r--   1 root supergroup       2340 2024-06-21 06:10 /user/warehouse/gold/water_db/data/part-00038-5bcbefd3-f50c-4df5-87af-8b6e7dcba050_00002.c000.snappy.parquet\n",
      "-rw-r--r--   1 root supergroup       2430 2024-06-21 06:10 /user/warehouse/gold/water_db/data/part-00055-5bcbefd3-f50c-4df5-87af-8b6e7dcba050_00002.c000.snappy.parquet\n",
      "-rw-r--r--   1 root supergroup       2628 2024-06-21 06:10 /user/warehouse/gold/water_db/data/part-00055-5bcbefd3-f50c-4df5-87af-8b6e7dcba050_00006.c000.snappy.parquet\n",
      "-rw-r--r--   1 root supergroup       2349 2024-06-21 06:10 /user/warehouse/gold/water_db/data/part-00058-5bcbefd3-f50c-4df5-87af-8b6e7dcba050_00004.c000.snappy.parquet\n",
      "-rw-r--r--   1 root supergroup       2682 2024-06-21 06:10 /user/warehouse/gold/water_db/data/part-00059-5bcbefd3-f50c-4df5-87af-8b6e7dcba050_00003.c000.snappy.parquet\n",
      "-rw-r--r--   1 root supergroup       2340 2024-06-21 06:10 /user/warehouse/gold/water_db/data/part-00062-5bcbefd3-f50c-4df5-87af-8b6e7dcba050_00006.c000.snappy.parquet\n",
      "-rw-r--r--   1 root supergroup       2412 2024-06-21 06:10 /user/warehouse/gold/water_db/data/part-00066-5bcbefd3-f50c-4df5-87af-8b6e7dcba050_00001.c000.snappy.parquet\n",
      "-rw-r--r--   1 root supergroup       2376 2024-06-21 06:10 /user/warehouse/gold/water_db/data/part-00067-5bcbefd3-f50c-4df5-87af-8b6e7dcba050_00006.c000.snappy.parquet\n",
      "-rw-r--r--   1 root supergroup       2385 2024-06-21 06:10 /user/warehouse/gold/water_db/data/part-00074-5bcbefd3-f50c-4df5-87af-8b6e7dcba050_00007.c000.snappy.parquet\n",
      "-rw-r--r--   1 root supergroup       2412 2024-06-21 06:10 /user/warehouse/gold/water_db/data/part-00075-5bcbefd3-f50c-4df5-87af-8b6e7dcba050_00003.c000.snappy.parquet\n",
      "-rw-r--r--   1 root supergroup       2349 2024-06-21 06:10 /user/warehouse/gold/water_db/data/part-00075-5bcbefd3-f50c-4df5-87af-8b6e7dcba050_00009.c000.snappy.parquet\n",
      "-rw-r--r--   1 root supergroup       2682 2024-06-21 06:10 /user/warehouse/gold/water_db/data/part-00079-5bcbefd3-f50c-4df5-87af-8b6e7dcba050_00001.c000.snappy.parquet\n",
      "-rw-r--r--   1 root supergroup       2403 2024-06-21 06:10 /user/warehouse/gold/water_db/data/part-00080-5bcbefd3-f50c-4df5-87af-8b6e7dcba050_00008.c000.snappy.parquet\n",
      "-rw-r--r--   1 root supergroup       2601 2024-06-21 06:10 /user/warehouse/gold/water_db/data/part-00086-5bcbefd3-f50c-4df5-87af-8b6e7dcba050_00005.c000.snappy.parquet\n",
      "-rw-r--r--   1 root supergroup       2412 2024-06-21 06:10 /user/warehouse/gold/water_db/data/part-00092-5bcbefd3-f50c-4df5-87af-8b6e7dcba050_00004.c000.snappy.parquet\n",
      "-rw-r--r--   1 root supergroup       2385 2024-06-21 06:10 /user/warehouse/gold/water_db/data/part-00095-5bcbefd3-f50c-4df5-87af-8b6e7dcba050_00000.c000.snappy.parquet\n",
      "-rw-r--r--   1 root supergroup       2601 2024-06-21 06:10 /user/warehouse/gold/water_db/data/part-00098-5bcbefd3-f50c-4df5-87af-8b6e7dcba050_00001.c000.snappy.parquet\n",
      "-rw-r--r--   1 root supergroup       2385 2024-06-21 06:10 /user/warehouse/gold/water_db/data/part-00105-5bcbefd3-f50c-4df5-87af-8b6e7dcba050_00005.c000.snappy.parquet\n",
      "-rw-r--r--   1 root supergroup       2358 2024-06-21 06:10 /user/warehouse/gold/water_db/data/part-00107-5bcbefd3-f50c-4df5-87af-8b6e7dcba050_00006.c000.snappy.parquet\n",
      "-rw-r--r--   1 root supergroup       2367 2024-06-21 06:10 /user/warehouse/gold/water_db/data/part-00110-5bcbefd3-f50c-4df5-87af-8b6e7dcba050_00004.c000.snappy.parquet\n",
      "-rw-r--r--   1 root supergroup       2349 2024-06-21 06:10 /user/warehouse/gold/water_db/data/part-00112-5bcbefd3-f50c-4df5-87af-8b6e7dcba050_00004.c000.snappy.parquet\n",
      "-rw-r--r--   1 root supergroup       2403 2024-06-21 06:10 /user/warehouse/gold/water_db/data/part-00118-5bcbefd3-f50c-4df5-87af-8b6e7dcba050_00000.c000.snappy.parquet\n",
      "-rw-r--r--   1 root supergroup       2736 2024-06-21 06:10 /user/warehouse/gold/water_db/data/part-00123-5bcbefd3-f50c-4df5-87af-8b6e7dcba050_00003.c000.snappy.parquet\n",
      "-rw-r--r--   1 root supergroup       2376 2024-06-21 06:10 /user/warehouse/gold/water_db/data/part-00125-5bcbefd3-f50c-4df5-87af-8b6e7dcba050_00006.c000.snappy.parquet\n",
      "-rw-r--r--   1 root supergroup       2736 2024-06-21 06:10 /user/warehouse/gold/water_db/data/part-00127-5bcbefd3-f50c-4df5-87af-8b6e7dcba050_00004.c000.snappy.parquet\n",
      "-rw-r--r--   1 root supergroup       2358 2024-06-21 06:10 /user/warehouse/gold/water_db/data/part-00130-5bcbefd3-f50c-4df5-87af-8b6e7dcba050_00008.c000.snappy.parquet\n",
      "-rw-r--r--   1 root supergroup       2583 2024-06-21 06:10 /user/warehouse/gold/water_db/data/part-00134-5bcbefd3-f50c-4df5-87af-8b6e7dcba050_00002.c000.snappy.parquet\n",
      "-rw-r--r--   1 root supergroup       2376 2024-06-21 06:10 /user/warehouse/gold/water_db/data/part-00135-5bcbefd3-f50c-4df5-87af-8b6e7dcba050_00000.c000.snappy.parquet\n",
      "-rw-r--r--   1 root supergroup       2349 2024-06-21 06:10 /user/warehouse/gold/water_db/data/part-00137-5bcbefd3-f50c-4df5-87af-8b6e7dcba050_00000.c000.snappy.parquet\n",
      "-rw-r--r--   1 root supergroup       2340 2024-06-21 06:10 /user/warehouse/gold/water_db/data/part-00139-5bcbefd3-f50c-4df5-87af-8b6e7dcba050_00007.c000.snappy.parquet\n",
      "-rw-r--r--   1 root supergroup       2412 2024-06-21 06:10 /user/warehouse/gold/water_db/data/part-00139-5bcbefd3-f50c-4df5-87af-8b6e7dcba050_00008.c000.snappy.parquet\n",
      "-rw-r--r--   1 root supergroup       2628 2024-06-21 06:10 /user/warehouse/gold/water_db/data/part-00143-5bcbefd3-f50c-4df5-87af-8b6e7dcba050_00006.c000.snappy.parquet\n",
      "-rw-r--r--   1 root supergroup       2376 2024-06-21 06:10 /user/warehouse/gold/water_db/data/part-00150-5bcbefd3-f50c-4df5-87af-8b6e7dcba050_00002.c000.snappy.parquet\n",
      "-rw-r--r--   1 root supergroup       2385 2024-06-21 06:10 /user/warehouse/gold/water_db/data/part-00153-5bcbefd3-f50c-4df5-87af-8b6e7dcba050_00007.c000.snappy.parquet\n",
      "-rw-r--r--   1 root supergroup       2367 2024-06-21 06:10 /user/warehouse/gold/water_db/data/part-00155-5bcbefd3-f50c-4df5-87af-8b6e7dcba050_00002.c000.snappy.parquet\n",
      "-rw-r--r--   1 root supergroup       2358 2024-06-21 06:10 /user/warehouse/gold/water_db/data/part-00160-5bcbefd3-f50c-4df5-87af-8b6e7dcba050_00002.c000.snappy.parquet\n",
      "-rw-r--r--   1 root supergroup       2349 2024-06-21 06:10 /user/warehouse/gold/water_db/data/part-00161-5bcbefd3-f50c-4df5-87af-8b6e7dcba050_00003.c000.snappy.parquet\n",
      "-rw-r--r--   1 root supergroup       2340 2024-06-21 06:10 /user/warehouse/gold/water_db/data/part-00161-5bcbefd3-f50c-4df5-87af-8b6e7dcba050_00007.c000.snappy.parquet\n",
      "-rw-r--r--   1 root supergroup       2430 2024-06-21 06:10 /user/warehouse/gold/water_db/data/part-00166-5bcbefd3-f50c-4df5-87af-8b6e7dcba050_00002.c000.snappy.parquet\n",
      "-rw-r--r--   1 root supergroup       2682 2024-06-21 06:10 /user/warehouse/gold/water_db/data/part-00168-5bcbefd3-f50c-4df5-87af-8b6e7dcba050_00009.c000.snappy.parquet\n",
      "-rw-r--r--   1 root supergroup       2376 2024-06-21 06:10 /user/warehouse/gold/water_db/data/part-00169-5bcbefd3-f50c-4df5-87af-8b6e7dcba050_00002.c000.snappy.parquet\n",
      "-rw-r--r--   1 root supergroup       2601 2024-06-21 06:10 /user/warehouse/gold/water_db/data/part-00176-5bcbefd3-f50c-4df5-87af-8b6e7dcba050_00004.c000.snappy.parquet\n",
      "-rw-r--r--   1 root supergroup       2349 2024-06-21 06:10 /user/warehouse/gold/water_db/data/part-00186-5bcbefd3-f50c-4df5-87af-8b6e7dcba050_00008.c000.snappy.parquet\n",
      "-rw-r--r--   1 root supergroup       2340 2024-06-21 06:10 /user/warehouse/gold/water_db/data/part-00193-5bcbefd3-f50c-4df5-87af-8b6e7dcba050_00004.c000.snappy.parquet\n",
      "-rw-r--r--   1 root supergroup       2430 2024-06-21 06:10 /user/warehouse/gold/water_db/data/part-00194-5bcbefd3-f50c-4df5-87af-8b6e7dcba050_00004.c000.snappy.parquet\n",
      "-rw-r--r--   1 root supergroup       2340 2024-06-21 06:10 /user/warehouse/gold/water_db/data/part-00194-5bcbefd3-f50c-4df5-87af-8b6e7dcba050_00005.c000.snappy.parquet\n",
      "-rw-r--r--   1 root supergroup       2394 2024-06-21 06:10 /user/warehouse/gold/water_db/data/part-00195-5bcbefd3-f50c-4df5-87af-8b6e7dcba050_00001.c000.snappy.parquet\n",
      "-rw-r--r--   1 root supergroup       2385 2024-06-21 06:10 /user/warehouse/gold/water_db/data/part-00197-5bcbefd3-f50c-4df5-87af-8b6e7dcba050_00005.c000.snappy.parquet\n",
      "-rw-r--r--   1 root supergroup       2396 2024-06-21 06:10 /user/warehouse/gold/water_db/data/part-00198-5bcbefd3-f50c-4df5-87af-8b6e7dcba050_00002.c000.snappy.parquet\n",
      "-rw-r--r--   1 root supergroup       2349 2024-06-21 06:10 /user/warehouse/gold/water_db/data/part-00198-5bcbefd3-f50c-4df5-87af-8b6e7dcba050_00006.c000.snappy.parquet\n"
     ]
    }
   ],
   "source": [
    "!hdfs dfs -ls /user/warehouse/gold/water_db/data"
   ]
  },
  {
   "cell_type": "code",
   "execution_count": null,
   "id": "6702fc21-33b0-40c9-94fe-728db9ef899f",
   "metadata": {},
   "outputs": [],
   "source": [
    "# http://localhost:50070/webhdfs/v1/user/warehouse/gold/water_db/data/data?op=OPEN"
   ]
  },
  {
   "cell_type": "code",
   "execution_count": null,
   "id": "1a4ffb5b-ec7e-4aa5-8a61-89406187d29d",
   "metadata": {},
   "outputs": [],
   "source": [
    "http://<localhost>:<50070>/webhdfs/v1/<user/warehouse/gold>?op=OPEN"
   ]
  },
  {
   "cell_type": "code",
   "execution_count": 42,
   "id": "109180c7-5861-4675-bebf-b317fe277b70",
   "metadata": {},
   "outputs": [
    {
     "name": "stdout",
     "output_type": "stream",
     "text": [
      "Found 1 items\n",
      "drwxr-xr-x   - root supergroup          0 2024-06-21 06:10 /user/warehouse/gold/water_db/data\n"
     ]
    }
   ],
   "source": [
    "!hdfs dfs -ls /user/warehouse/gold/water_db"
   ]
  },
  {
   "cell_type": "code",
   "execution_count": null,
   "id": "d0e2eb3d-02c9-48ff-b762-774b5729f05c",
   "metadata": {},
   "outputs": [],
   "source": [
    "http://172.17.0.2:50070/webhdfs/v1/user/warehouse/gold/water_db?op=OPEN"
   ]
  },
  {
   "cell_type": "code",
   "execution_count": null,
   "id": "222c618f-5280-4569-9fe0-3d62478c228d",
   "metadata": {},
   "outputs": [],
   "source": []
  },
  {
   "cell_type": "code",
   "execution_count": null,
   "id": "1477df42-cb9f-4584-beaa-280dcc59205a",
   "metadata": {},
   "outputs": [],
   "source": []
  },
  {
   "cell_type": "code",
   "execution_count": null,
   "id": "409a80bb-16b5-4b4c-8202-cef8c82410b7",
   "metadata": {},
   "outputs": [],
   "source": []
  },
  {
   "cell_type": "code",
   "execution_count": null,
   "id": "a0933a82-9a76-4258-af6c-b1628315ec2f",
   "metadata": {},
   "outputs": [],
   "source": []
  },
  {
   "cell_type": "code",
   "execution_count": null,
   "id": "ebf525b2-6359-481f-ae8d-7e6b25ec462e",
   "metadata": {},
   "outputs": [],
   "source": []
  }
 ],
 "metadata": {
  "kernelspec": {
   "display_name": "Python 3 (ipykernel)",
   "language": "python",
   "name": "python3"
  },
  "language_info": {
   "codemirror_mode": {
    "name": "ipython",
    "version": 3
   },
   "file_extension": ".py",
   "mimetype": "text/x-python",
   "name": "python",
   "nbconvert_exporter": "python",
   "pygments_lexer": "ipython3",
   "version": "3.8.10"
  }
 },
 "nbformat": 4,
 "nbformat_minor": 5
}
