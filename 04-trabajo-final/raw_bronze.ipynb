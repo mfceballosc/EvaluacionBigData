{
 "cells": [
  {
   "cell_type": "code",
   "execution_count": 1,
   "id": "41c82624-ac05-433b-bd9c-cbd5f1649686",
   "metadata": {},
   "outputs": [
    {
     "name": "stdout",
     "output_type": "stream",
     "text": [
      "El directorio ya existe warehouse/raw\n",
      "La base de datos '03042024.parquet' existe en 'base.data'\n",
      "Copiando la base de datos a 'warehouse/raw'...\n",
      "La base de datos se ha copiado exitosamente a 'warehouse/raw'\n"
     ]
    }
   ],
   "source": [
    "!sh directorio.sh"
   ]
  },
  {
   "cell_type": "code",
   "execution_count": 10,
   "id": "c8b0020f-b165-4577-bfc9-431bd37739b6",
   "metadata": {},
   "outputs": [
    {
     "name": "stdout",
     "output_type": "stream",
     "text": [
      "Creando directorio /user/warehouse...\n",
      "Creando directorio /user/warehouse/bronze...\n",
      "Creando directorio /user/warehouse/silver...\n",
      "Creando directorio /user/warehouse/gold...\n"
     ]
    }
   ],
   "source": [
    "!sh dir_hdfs.sh"
   ]
  },
  {
   "cell_type": "code",
   "execution_count": null,
   "id": "d4a0cf17-52fc-4ae8-942a-53fb3b3c792a",
   "metadata": {},
   "outputs": [],
   "source": [
    "!pip3 install shapely\n",
    "!pip3 install geopandas\n"
   ]
  },
  {
   "cell_type": "code",
   "execution_count": 27,
   "id": "856c326c-4cdf-411a-ad0b-b98d25fe0cf8",
   "metadata": {},
   "outputs": [],
   "source": [
    "# Crear el dataset crudo\n",
    "\n",
    "!python3 01_gen_bd/create_data.py"
   ]
  },
  {
   "cell_type": "code",
   "execution_count": 27,
   "id": "10008026-3be2-43f9-a541-7addebfc4c1e",
   "metadata": {},
   "outputs": [],
   "source": [
    "# Crear el dataset crudo\n",
    "\n",
    "!python3 01_gen_bd/create_data.py"
   ]
  },
  {
   "cell_type": "code",
   "execution_count": null,
   "id": "95626218-2ff5-4c8e-ab39-6b5b0ab99cb0",
   "metadata": {},
   "outputs": [],
   "source": []
  },
  {
   "cell_type": "code",
   "execution_count": null,
   "id": "ee1aac30-d666-4279-a45e-8e59a8fe6493",
   "metadata": {},
   "outputs": [],
   "source": []
  },
  {
   "cell_type": "code",
   "execution_count": null,
   "id": "c0bbc6ec-e3d4-4d9b-a8fa-2c6ea8e7993c",
   "metadata": {},
   "outputs": [],
   "source": []
  },
  {
   "cell_type": "code",
   "execution_count": null,
   "id": "16152ea1-033c-497e-b41a-be11b50cb2f5",
   "metadata": {},
   "outputs": [],
   "source": []
  },
  {
   "cell_type": "code",
   "execution_count": null,
   "id": "c5c6768d-d1f5-4739-9732-3ff327df6f5b",
   "metadata": {},
   "outputs": [],
   "source": []
  },
  {
   "cell_type": "code",
   "execution_count": null,
   "id": "6adce1c5-e2af-4da8-a5e0-48d5f2a7b8e6",
   "metadata": {},
   "outputs": [],
   "source": [
    "def load_parquet():\n",
    "        dire = \"base.data\"\n",
    "        base = \"16232203042024.parquet\"\n",
    "        df_cust = pd.read_parquet(os.path.join(dire, \"\\\\\",base))\n",
    "\n",
    "def silver(df_cust):\n",
    "        df_cust[['latitude', 'longitude']] = df_cust['points'].apply(lambda geom: pd.Series(obtener_coordenadas(geom)))    \n",
    "        df_cust['event_date'] = df_cust['fecha'].astype(str)\n",
    "        df_cust[['event_date', 'event_hour']] = df_cust['event_date'].str.split(' ', expand=True)\n",
    "        df_cust[['event_year', 'event_month', 'event_day']] = df_cust['event_date'].str.split('-', expand=True)\n",
    "        df_cust[['event_hour', 'event_minute', 'event_second']] = df_cust['event_hour'].str.split(':', expand=True)\n",
    "        df_cust['partition_date'] = df_cust['event_day'] +  df_cust['event_month'] + df_cust['event_year']\n",
    "        df_cust = df_cust.rename(columns={'NOMBRE': 'neighborhood'})\n",
    "        df_cust = df_cust.rename(columns={'IDENTIFICACION': 'commune'})\n",
    "        df_cust = df_cust.rename(columns={'empl_employee_id': 'employee_id'})    \n",
    "        generar_order_id(df_cust)\n",
    "\n",
    "        cols =['partition_date', 'order_id', 'commune', 'customer_id', 'employee_id', \n",
    "                'event_date', 'event_day', 'event_hour', 'event_minute', \n",
    "                'event_month', 'event_second', 'event_year', 'latitude', 'longitude',\n",
    "                'neighborhood', 'quantity_products']\n",
    "        df_cust = df_cust[cols]\n",
    "\n",
    "        file_name = df_cust[\"partition_date\"][0]\n",
    "\n",
    "        df_cust.to_parquet(file_name)"
   ]
  },
  {
   "cell_type": "code",
   "execution_count": null,
   "id": "6e27e3c6-d506-41b3-9ff6-424a6e565827",
   "metadata": {},
   "outputs": [],
   "source": []
  },
  {
   "cell_type": "code",
   "execution_count": null,
   "id": "df04e98f-edff-45c5-baf8-bcffc6452768",
   "metadata": {},
   "outputs": [],
   "source": [
    "# Crea el dataset en silver\n",
    "!python3 01_gen_bd/silver.py"
   ]
  },
  {
   "cell_type": "code",
   "execution_count": null,
   "id": "701cdf7c-d02a-4e5a-9f00-c742991e398c",
   "metadata": {},
   "outputs": [],
   "source": [
    "!hdfs dfs "
   ]
  },
  {
   "cell_type": "code",
   "execution_count": 20,
   "id": "11a13ac5-ae4c-497a-a96f-ba417011fe77",
   "metadata": {},
   "outputs": [
    {
     "name": "stdout",
     "output_type": "stream",
     "text": [
      "Requirement already satisfied: shapely in /usr/local/lib/python3.8/dist-packages (2.0.4)\n",
      "Requirement already satisfied: numpy<3,>=1.14 in /usr/local/lib/python3.8/dist-packages (from shapely) (1.22.4)\n",
      "\u001b[33mWARNING: Running pip as the 'root' user can result in broken permissions and conflicting behaviour with the system package manager. It is recommended to use a virtual environment instead: https://pip.pypa.io/warnings/venv\u001b[0m\u001b[33m\n",
      "\u001b[0m--- Logging error ---\n",
      "Traceback (most recent call last):\n",
      "  File \"/usr/local/lib/python3.8/dist-packages/pip/_internal/utils/logging.py\", line 177, in emit\n",
      "    self.console.print(renderable, overflow=\"ignore\", crop=False, style=style)\n",
      "  File \"/usr/local/lib/python3.8/dist-packages/pip/_vendor/rich/console.py\", line 1752, in print\n",
      "    extend(render(renderable, render_options))\n",
      "  File \"/usr/local/lib/python3.8/dist-packages/pip/_vendor/rich/console.py\", line 1390, in render\n",
      "    for render_output in iter_render:\n",
      "  File \"/usr/local/lib/python3.8/dist-packages/pip/_internal/utils/logging.py\", line 134, in __rich_console__\n",
      "    for line in lines:\n",
      "  File \"/usr/local/lib/python3.8/dist-packages/pip/_vendor/rich/segment.py\", line 245, in split_lines\n",
      "    for segment in segments:\n",
      "  File \"/usr/local/lib/python3.8/dist-packages/pip/_vendor/rich/console.py\", line 1368, in render\n",
      "    renderable = rich_cast(renderable)\n",
      "  File \"/usr/local/lib/python3.8/dist-packages/pip/_vendor/rich/protocol.py\", line 36, in rich_cast\n",
      "    renderable = cast_method()\n",
      "  File \"/usr/local/lib/python3.8/dist-packages/pip/_internal/self_outdated_check.py\", line 130, in __rich__\n",
      "    pip_cmd = get_best_invocation_for_this_pip()\n",
      "  File \"/usr/local/lib/python3.8/dist-packages/pip/_internal/utils/entrypoints.py\", line 58, in get_best_invocation_for_this_pip\n",
      "    if found_executable and os.path.samefile(\n",
      "  File \"/usr/lib/python3.8/genericpath.py\", line 101, in samefile\n",
      "    s2 = os.stat(f2)\n",
      "FileNotFoundError: [Errno 2] No such file or directory: '/usr/bin/pip3.8'\n",
      "Call stack:\n",
      "  File \"/usr/local/bin/pip3\", line 8, in <module>\n",
      "    sys.exit(main())\n",
      "  File \"/usr/local/lib/python3.8/dist-packages/pip/_internal/cli/main.py\", line 70, in main\n",
      "    return command.main(cmd_args)\n",
      "  File \"/usr/local/lib/python3.8/dist-packages/pip/_internal/cli/base_command.py\", line 101, in main\n",
      "    return self._main(args)\n",
      "  File \"/usr/local/lib/python3.8/dist-packages/pip/_internal/cli/base_command.py\", line 223, in _main\n",
      "    self.handle_pip_version_check(options)\n",
      "  File \"/usr/local/lib/python3.8/dist-packages/pip/_internal/cli/req_command.py\", line 148, in handle_pip_version_check\n",
      "    pip_self_version_check(session, options)\n",
      "  File \"/usr/local/lib/python3.8/dist-packages/pip/_internal/self_outdated_check.py\", line 237, in pip_self_version_check\n",
      "    logger.info(\"[present-rich] %s\", upgrade_prompt)\n",
      "  File \"/usr/lib/python3.8/logging/__init__.py\", line 1446, in info\n",
      "    self._log(INFO, msg, args, **kwargs)\n",
      "  File \"/usr/lib/python3.8/logging/__init__.py\", line 1589, in _log\n",
      "    self.handle(record)\n",
      "  File \"/usr/lib/python3.8/logging/__init__.py\", line 1599, in handle\n",
      "    self.callHandlers(record)\n",
      "  File \"/usr/lib/python3.8/logging/__init__.py\", line 1661, in callHandlers\n",
      "    hdlr.handle(record)\n",
      "  File \"/usr/lib/python3.8/logging/__init__.py\", line 954, in handle\n",
      "    self.emit(record)\n",
      "  File \"/usr/local/lib/python3.8/dist-packages/pip/_internal/utils/logging.py\", line 179, in emit\n",
      "    self.handleError(record)\n",
      "Message: '[present-rich] %s'\n",
      "Arguments: (UpgradePrompt(old='22.1.2', new='24.0'),)\n",
      "Collecting geopandas\n",
      "  Downloading geopandas-0.13.2-py3-none-any.whl (1.1 MB)\n",
      "\u001b[2K     \u001b[90m━━━━━━━━━━━━━━━━━━━━━━━━━━━━━━━━━━━━━━━━\u001b[0m \u001b[32m1.1/1.1 MB\u001b[0m \u001b[31m2.4 MB/s\u001b[0m eta \u001b[36m0:00:00\u001b[0ma \u001b[36m0:00:01\u001b[0m\n",
      "\u001b[?25hRequirement already satisfied: shapely>=1.7.1 in /usr/local/lib/python3.8/dist-packages (from geopandas) (2.0.4)\n",
      "Collecting pyproj>=3.0.1\n",
      "  Downloading pyproj-3.5.0-cp38-cp38-manylinux_2_17_x86_64.manylinux2014_x86_64.whl (7.8 MB)\n",
      "\u001b[2K     \u001b[90m━━━━━━━━━━━━━━━━━━━━━━━━━━━━━━━━━━━━━━━━\u001b[0m \u001b[32m7.8/7.8 MB\u001b[0m \u001b[31m4.9 MB/s\u001b[0m eta \u001b[36m0:00:00\u001b[0m00:01\u001b[0m00:01\u001b[0m\n",
      "\u001b[?25hCollecting fiona>=1.8.19\n",
      "  Downloading fiona-1.9.6-cp38-cp38-manylinux2014_x86_64.whl (15.7 MB)\n",
      "\u001b[2K     \u001b[90m━━━━━━━━━━━━━━━━━━━━━━━━━━━━━━━━━━━━━━━━\u001b[0m \u001b[32m15.7/15.7 MB\u001b[0m \u001b[31m2.4 MB/s\u001b[0m eta \u001b[36m0:00:00\u001b[0m00:01\u001b[0m00:01\u001b[0m\n",
      "\u001b[?25hRequirement already satisfied: pandas>=1.1.0 in /usr/local/lib/python3.8/dist-packages (from geopandas) (1.4.2)\n",
      "Requirement already satisfied: packaging in /usr/local/lib/python3.8/dist-packages (from geopandas) (21.3)\n",
      "Requirement already satisfied: attrs>=19.2.0 in /usr/local/lib/python3.8/dist-packages (from fiona>=1.8.19->geopandas) (21.4.0)\n",
      "Collecting click-plugins>=1.0\n",
      "  Downloading click_plugins-1.1.1-py2.py3-none-any.whl (7.5 kB)\n",
      "Collecting cligj>=0.5\n",
      "  Downloading cligj-0.7.2-py3-none-any.whl (7.1 kB)\n",
      "Requirement already satisfied: six in /usr/local/lib/python3.8/dist-packages (from fiona>=1.8.19->geopandas) (1.16.0)\n",
      "Requirement already satisfied: importlib-metadata in /usr/local/lib/python3.8/dist-packages (from fiona>=1.8.19->geopandas) (4.11.4)\n",
      "Requirement already satisfied: certifi in /usr/local/lib/python3.8/dist-packages (from fiona>=1.8.19->geopandas) (2022.5.18.1)\n",
      "Requirement already satisfied: click~=8.0 in /usr/local/lib/python3.8/dist-packages (from fiona>=1.8.19->geopandas) (8.1.3)\n",
      "Requirement already satisfied: numpy>=1.18.5 in /usr/local/lib/python3.8/dist-packages (from pandas>=1.1.0->geopandas) (1.22.4)\n",
      "Requirement already satisfied: python-dateutil>=2.8.1 in /usr/local/lib/python3.8/dist-packages (from pandas>=1.1.0->geopandas) (2.8.2)\n",
      "Requirement already satisfied: pytz>=2020.1 in /usr/local/lib/python3.8/dist-packages (from pandas>=1.1.0->geopandas) (2022.1)\n",
      "Requirement already satisfied: pyparsing!=3.0.5,>=2.0.2 in /usr/local/lib/python3.8/dist-packages (from packaging->geopandas) (2.4.7)\n",
      "Requirement already satisfied: zipp>=0.5 in /usr/local/lib/python3.8/dist-packages (from importlib-metadata->fiona>=1.8.19->geopandas) (3.8.0)\n",
      "Installing collected packages: pyproj, cligj, click-plugins, fiona, geopandas\n",
      "Successfully installed click-plugins-1.1.1 cligj-0.7.2 fiona-1.9.6 geopandas-0.13.2 pyproj-3.5.0\n",
      "\u001b[33mWARNING: Running pip as the 'root' user can result in broken permissions and conflicting behaviour with the system package manager. It is recommended to use a virtual environment instead: https://pip.pypa.io/warnings/venv\u001b[0m\u001b[33m\n",
      "\u001b[0m--- Logging error ---\n",
      "Traceback (most recent call last):\n",
      "  File \"/usr/local/lib/python3.8/dist-packages/pip/_internal/utils/logging.py\", line 177, in emit\n",
      "    self.console.print(renderable, overflow=\"ignore\", crop=False, style=style)\n",
      "  File \"/usr/local/lib/python3.8/dist-packages/pip/_vendor/rich/console.py\", line 1752, in print\n",
      "    extend(render(renderable, render_options))\n",
      "  File \"/usr/local/lib/python3.8/dist-packages/pip/_vendor/rich/console.py\", line 1390, in render\n",
      "    for render_output in iter_render:\n",
      "  File \"/usr/local/lib/python3.8/dist-packages/pip/_internal/utils/logging.py\", line 134, in __rich_console__\n",
      "    for line in lines:\n",
      "  File \"/usr/local/lib/python3.8/dist-packages/pip/_vendor/rich/segment.py\", line 245, in split_lines\n",
      "    for segment in segments:\n",
      "  File \"/usr/local/lib/python3.8/dist-packages/pip/_vendor/rich/console.py\", line 1368, in render\n",
      "    renderable = rich_cast(renderable)\n",
      "  File \"/usr/local/lib/python3.8/dist-packages/pip/_vendor/rich/protocol.py\", line 36, in rich_cast\n",
      "    renderable = cast_method()\n",
      "  File \"/usr/local/lib/python3.8/dist-packages/pip/_internal/self_outdated_check.py\", line 130, in __rich__\n",
      "    pip_cmd = get_best_invocation_for_this_pip()\n",
      "  File \"/usr/local/lib/python3.8/dist-packages/pip/_internal/utils/entrypoints.py\", line 58, in get_best_invocation_for_this_pip\n",
      "    if found_executable and os.path.samefile(\n",
      "  File \"/usr/lib/python3.8/genericpath.py\", line 101, in samefile\n",
      "    s2 = os.stat(f2)\n",
      "FileNotFoundError: [Errno 2] No such file or directory: '/usr/bin/pip3.8'\n",
      "Call stack:\n",
      "  File \"/usr/local/bin/pip3\", line 8, in <module>\n",
      "    sys.exit(main())\n",
      "  File \"/usr/local/lib/python3.8/dist-packages/pip/_internal/cli/main.py\", line 70, in main\n",
      "    return command.main(cmd_args)\n",
      "  File \"/usr/local/lib/python3.8/dist-packages/pip/_internal/cli/base_command.py\", line 101, in main\n",
      "    return self._main(args)\n",
      "  File \"/usr/local/lib/python3.8/dist-packages/pip/_internal/cli/base_command.py\", line 223, in _main\n",
      "    self.handle_pip_version_check(options)\n",
      "  File \"/usr/local/lib/python3.8/dist-packages/pip/_internal/cli/req_command.py\", line 148, in handle_pip_version_check\n",
      "    pip_self_version_check(session, options)\n",
      "  File \"/usr/local/lib/python3.8/dist-packages/pip/_internal/self_outdated_check.py\", line 237, in pip_self_version_check\n",
      "    logger.info(\"[present-rich] %s\", upgrade_prompt)\n",
      "  File \"/usr/lib/python3.8/logging/__init__.py\", line 1446, in info\n",
      "    self._log(INFO, msg, args, **kwargs)\n",
      "  File \"/usr/lib/python3.8/logging/__init__.py\", line 1589, in _log\n",
      "    self.handle(record)\n",
      "  File \"/usr/lib/python3.8/logging/__init__.py\", line 1599, in handle\n",
      "    self.callHandlers(record)\n",
      "  File \"/usr/lib/python3.8/logging/__init__.py\", line 1661, in callHandlers\n",
      "    hdlr.handle(record)\n",
      "  File \"/usr/lib/python3.8/logging/__init__.py\", line 954, in handle\n",
      "    self.emit(record)\n",
      "  File \"/usr/local/lib/python3.8/dist-packages/pip/_internal/utils/logging.py\", line 179, in emit\n",
      "    self.handleError(record)\n",
      "Message: '[present-rich] %s'\n",
      "Arguments: (UpgradePrompt(old='22.1.2', new='24.0'),)\n"
     ]
    }
   ],
   "source": []
  },
  {
   "cell_type": "code",
   "execution_count": 21,
   "id": "1a97fa32-0e07-43f3-bd29-6c22a42dd410",
   "metadata": {},
   "outputs": [],
   "source": []
  },
  {
   "cell_type": "code",
   "execution_count": null,
   "id": "6fa4eeec-3dd6-4253-9433-5ca2d9028624",
   "metadata": {},
   "outputs": [],
   "source": []
  },
  {
   "cell_type": "code",
   "execution_count": null,
   "id": "e3b76aaf-c234-4686-ac84-879f0988ecad",
   "metadata": {},
   "outputs": [],
   "source": []
  },
  {
   "cell_type": "code",
   "execution_count": null,
   "id": "af5dbdd7-a871-415b-bdcd-1fb51f034d0e",
   "metadata": {},
   "outputs": [],
   "source": []
  },
  {
   "cell_type": "code",
   "execution_count": null,
   "id": "22c90a09-1ace-4888-9252-c229dac58e47",
   "metadata": {},
   "outputs": [],
   "source": []
  },
  {
   "cell_type": "code",
   "execution_count": 3,
   "id": "cd26ff89-9895-4680-890c-fd8198e32ee5",
   "metadata": {},
   "outputs": [
    {
     "name": "stderr",
     "output_type": "stream",
     "text": [
      "Setting default log level to \"WARN\".\n",
      "To adjust logging level use sc.setLogLevel(newLevel). For SparkR, use setLogLevel(newLevel).\n"
     ]
    }
   ],
   "source": [
    "from pyspark.sql import SparkSession\n",
    "spark = SparkSession.builder.appName(\"trabajo_final\").getOrCreate()"
   ]
  },
  {
   "cell_type": "code",
   "execution_count": 4,
   "id": "8a8d840a-7ff7-45b4-a99e-6bf4278ffee4",
   "metadata": {},
   "outputs": [
    {
     "name": "stdout",
     "output_type": "stream",
     "text": [
      "file:///tmp/spark-3d415965-f786-427a-9c09-dbb7c2100b0b/userFiles-dcdc2bf2-0d7d-418f-949b-fe4747bacf9c/03042024.parquet\n"
     ]
    }
   ],
   "source": [
    "from pyspark import SparkFiles\n",
    "\n",
    "# Preparar el archivo en spark para cargar\n",
    "file: str = \"warehouse/raw/03042024.parquet\"\n",
    "spark.sparkContext.addFile(file)\n",
    "\n",
    "spark_file: str = \"file://\"+SparkFiles.get(\"03042024.parquet\")\n",
    "print(spark_file)"
   ]
  },
  {
   "cell_type": "code",
   "execution_count": 5,
   "id": "69fd9988-7924-4df1-80ec-2221f980079e",
   "metadata": {},
   "outputs": [
    {
     "name": "stderr",
     "output_type": "stream",
     "text": [
      "                                                                                \r"
     ]
    }
   ],
   "source": [
    "df_comunas = spark.read.parquet(spark_file)"
   ]
  },
  {
   "cell_type": "code",
   "execution_count": 7,
   "id": "1e6483c6-d125-4389-8bb4-06f57ee396db",
   "metadata": {},
   "outputs": [
    {
     "name": "stderr",
     "output_type": "stream",
     "text": [
      "                                                                                \r"
     ]
    },
    {
     "data": {
      "text/plain": [
       "DataFrame[summary: string, partition_date: string, order_id: string, commune: string, customer_id: string, employee_id: string, event_date: string, event_day: string, event_hour: string, event_minute: string, event_month: string, event_second: string, event_year: string, latitude: string, longitude: string, neighborhood: string, quantity_products: string, __index_level_0__: string]"
      ]
     },
     "execution_count": 7,
     "metadata": {},
     "output_type": "execute_result"
    }
   ],
   "source": [
    "df_comunas.describe()"
   ]
  },
  {
   "cell_type": "code",
   "execution_count": 6,
   "id": "2f1d6c9f-a5bf-4983-afa4-7edd9cda24b5",
   "metadata": {},
   "outputs": [
    {
     "name": "stderr",
     "output_type": "stream",
     "text": [
      "                                                                                \r"
     ]
    },
    {
     "name": "stdout",
     "output_type": "stream",
     "text": [
      "+--------------+--------------------+----------------+-----------+-----------+----------+---------+----------+------------+-----------+------------+----------+------------------+------------------+--------------------+-----------------+-----------------+\n",
      "|partition_date|            order_id|         commune|customer_id|employee_id|event_date|event_day|event_hour|event_minute|event_month|event_second|event_year|          latitude|         longitude|        neighborhood|quantity_products|__index_level_0__|\n",
      "+--------------+--------------------+----------------+-----------+-----------+----------+---------+----------+------------+-----------+------------+----------+------------------+------------------+--------------------+-----------------+-----------------+\n",
      "|      03042024|10a44773-85b5-583...|        COMUNA 3|       4261|       1679|2024-04-03|       03|        23|          43|         04|          44|      2024|-75.54965000825186| 6.269627252440055|            MANRIQUE|                7|              557|\n",
      "|      03042024|e85b1471-83a8-57f...|        COMUNA 3|       3340|       1679|2024-04-03|       03|        23|          10|         04|          04|      2024|-75.54687334424507| 6.276825730114868|            MANRIQUE|               20|              513|\n",
      "|      03042024|49401a7c-0e64-5d9...|        COMUNA 3|       4838|       1679|2024-04-03|       03|        22|          42|         04|          45|      2024|-75.54687683209266| 6.283064175920605|            MANRIQUE|               14|              565|\n",
      "|      03042024|e00284f1-03a7-5ac...|       COMUNA 13|       8481|       4750|2024-04-03|       03|        22|          00|         04|          35|      2024|-75.61819622619409| 6.263131824574167|          SAN JAVIER|                3|              843|\n",
      "|      03042024|fe262d2e-021f-51d...|        COMUNA 1|       5405|       6659|2024-04-03|       03|        21|          42|         04|          12|      2024| -75.5490372063009| 6.295550093940121|             POPULAR|               17|              632|\n",
      "|      03042024|aba04cfb-a10b-5cb...|        COMUNA 1|       7115|       6659|2024-04-03|       03|        21|          28|         04|          26|      2024|-75.54688087567563| 6.300756799397891|             POPULAR|                8|              611|\n",
      "|      03042024|86fbe47b-266e-52c...|        COMUNA 2|       9633|       3830|2024-04-03|       03|        21|          19|         04|          18|      2024|-75.55664815952095| 6.301995177853302|          SANTA CRUZ|               19|              959|\n",
      "|      03042024|504608d2-1d3d-5a6...|       COMUNA 13|       3586|       4750|2024-04-03|       03|        21|          01|         04|          37|      2024| -75.6180078595692| 6.249155414129354|          SAN JAVIER|               28|              870|\n",
      "|      03042024|907f9e7b-e908-52a...|        COMUNA 1|       4386|       6659|2024-04-03|       03|        20|          58|         04|          07|      2024|-75.54784449073756| 6.287073711089178|             POPULAR|               14|              601|\n",
      "|      03042024|8c823b9e-f20d-50b...|        COMUNA 5|       8535|       1482|2024-04-03|       03|        20|          52|         04|          40|      2024|-75.57173593568777| 6.277340721588865|            CASTILLA|               21|              236|\n",
      "|      03042024|3c98a522-b77f-585...|        COMUNA 8|       9156|       2470|2024-04-03|       03|        20|          42|         04|          58|      2024|-75.55368921990787| 6.248484771999362|       VILLA HERMOSA|               16|             1035|\n",
      "|      03042024|3b843281-810b-53f...|       COMUNA 13|       8481|       4750|2024-04-03|       03|        20|          42|         04|          45|      2024|-75.63068575968916| 6.247922565321573|          SAN JAVIER|                6|              850|\n",
      "|      03042024|e250a334-9c5e-5b9...|CORREGIMIENTO 90|       8156|       5668|2024-04-03|       03|        20|          37|         04|          46|      2024|-75.53362231747701| 6.177529084398742|CORREGIMIENTO DE ...|                8|              975|\n",
      "|      03042024|b7357143-0ca8-5b6...|       COMUNA 13|       6964|       4750|2024-04-03|       03|        20|          23|         04|          24|      2024| -75.6158351279901| 6.254657429494782|          SAN JAVIER|               25|              872|\n",
      "|      03042024|5c2a0807-2549-5a2...|        COMUNA 8|       2545|       2470|2024-04-03|       03|        20|          18|         04|          15|      2024|-75.52700312897903| 6.231633544459127|       VILLA HERMOSA|               17|             1023|\n",
      "|      03042024|7e8a3587-b71e-525...|       COMUNA 16|       9338|       8362|2024-04-03|       03|        20|          16|         04|          57|      2024|-75.60854094225058|6.2219147699108595|               BELÉN|                9|              134|\n",
      "|      03042024|a45257e0-f32f-5fe...|       COMUNA 16|       9144|       8362|2024-04-03|       03|        20|          15|         04|          38|      2024|-75.59883278238395| 6.232981325273207|               BELÉN|               24|               79|\n",
      "|      03042024|2e986eb4-b9c0-55a...|        COMUNA 6|       7008|       1473|2024-04-03|       03|        19|          58|         04|          06|      2024|-75.57311398288738| 6.306350656974788|     DOCE DE OCTUBRE|               11|              299|\n",
      "|      03042024|a54e7ff2-db74-571...|        COMUNA 9|       5363|       6337|2024-04-03|       03|        19|          51|         04|          13|      2024|-75.54608056338964|  6.23575124377488|        BUENOS AIRES|                8|              217|\n",
      "|      03042024|2addb70a-d160-5d5...|        COMUNA 4|       7447|       4942|2024-04-03|       03|        19|          48|         04|          49|      2024|-75.56083075617487| 6.278207797088471|            ARANJUEZ|                9|               34|\n",
      "+--------------+--------------------+----------------+-----------+-----------+----------+---------+----------+------------+-----------+------------+----------+------------------+------------------+--------------------+-----------------+-----------------+\n",
      "only showing top 20 rows\n",
      "\n"
     ]
    }
   ],
   "source": [
    "# df_comunas.show()\n",
    "!python\n"
   ]
  },
  {
   "cell_type": "code",
   "execution_count": null,
   "id": "a7b360b4-8ddc-4abb-b72c-76994e5ae913",
   "metadata": {},
   "outputs": [],
   "source": [
    "# de botellas por comuna"
   ]
  },
  {
   "cell_type": "code",
   "execution_count": null,
   "id": "0032077a-0371-4da7-8bda-e5a1dd7d2195",
   "metadata": {},
   "outputs": [],
   "source": []
  },
  {
   "cell_type": "code",
   "execution_count": null,
   "id": "35287ce2-4d90-4fa7-a8b5-c1daf9083d24",
   "metadata": {},
   "outputs": [],
   "source": []
  },
  {
   "cell_type": "code",
   "execution_count": null,
   "id": "50fc6876-641d-4d92-8310-1c980a6dcb5a",
   "metadata": {},
   "outputs": [],
   "source": []
  },
  {
   "cell_type": "code",
   "execution_count": null,
   "id": "6702fc21-33b0-40c9-94fe-728db9ef899f",
   "metadata": {},
   "outputs": [],
   "source": []
  },
  {
   "cell_type": "code",
   "execution_count": null,
   "id": "1a4ffb5b-ec7e-4aa5-8a61-89406187d29d",
   "metadata": {},
   "outputs": [],
   "source": []
  },
  {
   "cell_type": "code",
   "execution_count": null,
   "id": "109180c7-5861-4675-bebf-b317fe277b70",
   "metadata": {},
   "outputs": [],
   "source": []
  },
  {
   "cell_type": "code",
   "execution_count": null,
   "id": "d0e2eb3d-02c9-48ff-b762-774b5729f05c",
   "metadata": {},
   "outputs": [],
   "source": []
  },
  {
   "cell_type": "code",
   "execution_count": null,
   "id": "222c618f-5280-4569-9fe0-3d62478c228d",
   "metadata": {},
   "outputs": [],
   "source": []
  },
  {
   "cell_type": "code",
   "execution_count": null,
   "id": "1477df42-cb9f-4584-beaa-280dcc59205a",
   "metadata": {},
   "outputs": [],
   "source": []
  },
  {
   "cell_type": "code",
   "execution_count": null,
   "id": "409a80bb-16b5-4b4c-8202-cef8c82410b7",
   "metadata": {},
   "outputs": [],
   "source": []
  },
  {
   "cell_type": "code",
   "execution_count": null,
   "id": "a0933a82-9a76-4258-af6c-b1628315ec2f",
   "metadata": {},
   "outputs": [],
   "source": []
  },
  {
   "cell_type": "code",
   "execution_count": null,
   "id": "ebf525b2-6359-481f-ae8d-7e6b25ec462e",
   "metadata": {},
   "outputs": [],
   "source": []
  }
 ],
 "metadata": {
  "kernelspec": {
   "display_name": "Python 3 (ipykernel)",
   "language": "python",
   "name": "python3"
  },
  "language_info": {
   "codemirror_mode": {
    "name": "ipython",
    "version": 3
   },
   "file_extension": ".py",
   "mimetype": "text/x-python",
   "name": "python",
   "nbconvert_exporter": "python",
   "pygments_lexer": "ipython3",
   "version": "3.8.10"
  }
 },
 "nbformat": 4,
 "nbformat_minor": 5
}
